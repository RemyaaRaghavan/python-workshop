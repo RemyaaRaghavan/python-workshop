{
 "cells": [
  {
   "cell_type": "markdown",
   "id": "f43334ff",
   "metadata": {},
   "source": [
    "# 1st python program"
   ]
  },
  {
   "cell_type": "code",
   "execution_count": 5,
   "id": "a69f322a",
   "metadata": {},
   "outputs": [
    {
     "name": "stdout",
     "output_type": "stream",
     "text": [
      "Hello my viewers\n"
     ]
    }
   ],
   "source": [
    "print('Hello my viewers')\n"
   ]
  },
  {
   "cell_type": "markdown",
   "id": "e8feb485",
   "metadata": {},
   "source": [
    "# python variables"
   ]
  },
  {
   "cell_type": "markdown",
   "id": "3b94f45a",
   "metadata": {},
   "source": [
    "# variable declaration"
   ]
  },
  {
   "cell_type": "code",
   "execution_count": 10,
   "id": "a8a8ca12",
   "metadata": {},
   "outputs": [
    {
     "data": {
      "text/plain": [
       "100"
      ]
     },
     "execution_count": 10,
     "metadata": {},
     "output_type": "execute_result"
    }
   ],
   "source": [
    "#variable is declared as the value 5 is assigned to it\n",
    "x = 5\n",
    "x\n",
    "5\n",
    "xyz=100\n",
    "xyz\n"
   ]
  },
  {
   "cell_type": "markdown",
   "id": "778efa67",
   "metadata": {},
   "source": [
    "# Data Types in python"
   ]
  },
  {
   "cell_type": "markdown",
   "id": "d91f2941",
   "metadata": {},
   "source": [
    "# Numberical data types\n",
    "1.Integers\n",
    "\n",
    "2.Float\n",
    "\n",
    "3.Complex Numbers\n",
    "\n",
    "4.Boolean"
   ]
  },
  {
   "cell_type": "code",
   "execution_count": 12,
   "id": "adecc777",
   "metadata": {},
   "outputs": [
    {
     "data": {
      "text/plain": [
       "int"
      ]
     },
     "execution_count": 12,
     "metadata": {},
     "output_type": "execute_result"
    }
   ],
   "source": [
    "#1 integers = are used to represent whole number values\n",
    "x = 1000\n",
    "b = 10000\n",
    " \n",
    "type(x)\n",
    "type(b)\n",
    "\n"
   ]
  },
  {
   "cell_type": "code",
   "execution_count": 18,
   "id": "e4941f99",
   "metadata": {},
   "outputs": [
    {
     "data": {
      "text/plain": [
       "float"
      ]
     },
     "execution_count": 18,
     "metadata": {},
     "output_type": "execute_result"
    }
   ],
   "source": [
    "# 2. Float = data type is used to represent decimal point values\n",
    "x = 100.10\n",
    "y = 13.13\n",
    "type(x)\n",
    "type(y)"
   ]
  },
  {
   "cell_type": "code",
   "execution_count": 19,
   "id": "293fad17",
   "metadata": {},
   "outputs": [
    {
     "data": {
      "text/plain": [
       "complex"
      ]
     },
     "execution_count": 19,
     "metadata": {},
     "output_type": "execute_result"
    }
   ],
   "source": [
    "# 3.complex = numbers are used to represent imaginary values\n",
    "z = 12+4j\n",
    "type(z)"
   ]
  },
  {
   "cell_type": "code",
   "execution_count": 20,
   "id": "d19f94ee",
   "metadata": {},
   "outputs": [
    {
     "data": {
      "text/plain": [
       "complex"
      ]
     },
     "execution_count": 20,
     "metadata": {},
     "output_type": "execute_result"
    }
   ],
   "source": [
    "c=3+6j\n",
    "type(c)"
   ]
  },
  {
   "cell_type": "code",
   "execution_count": 21,
   "id": "9d72a842",
   "metadata": {},
   "outputs": [],
   "source": [
    "# 4.Boolean = is used for categorical output,since the output of boolean is either true or false\n",
    "Boo = 9>7\n"
   ]
  },
  {
   "cell_type": "code",
   "execution_count": 22,
   "id": "9f1d22cd",
   "metadata": {},
   "outputs": [
    {
     "data": {
      "text/plain": [
       "bool"
      ]
     },
     "execution_count": 22,
     "metadata": {},
     "output_type": "execute_result"
    }
   ],
   "source": [
    "#Boo is the boolean variable\n",
    "type(Boo)"
   ]
  },
  {
   "cell_type": "code",
   "execution_count": 23,
   "id": "8204af7d",
   "metadata": {},
   "outputs": [
    {
     "name": "stdout",
     "output_type": "stream",
     "text": [
      "True\n"
     ]
    }
   ],
   "source": [
    "#the output will be bool\n",
    "print(Boo)"
   ]
  },
  {
   "cell_type": "code",
   "execution_count": 27,
   "id": "66ca06ba",
   "metadata": {},
   "outputs": [
    {
     "name": "stdout",
     "output_type": "stream",
     "text": [
      "False\n"
     ]
    }
   ],
   "source": [
    "l=20<10\n",
    "print(l)"
   ]
  },
  {
   "cell_type": "code",
   "execution_count": null,
   "id": "aa73fef6",
   "metadata": {},
   "outputs": [],
   "source": []
  },
  {
   "cell_type": "code",
   "execution_count": null,
   "id": "06c9291b",
   "metadata": {},
   "outputs": [],
   "source": []
  }
 ],
 "metadata": {
  "kernelspec": {
   "display_name": "Python 3 (ipykernel)",
   "language": "python",
   "name": "python3"
  },
  "language_info": {
   "codemirror_mode": {
    "name": "ipython",
    "version": 3
   },
   "file_extension": ".py",
   "mimetype": "text/x-python",
   "name": "python",
   "nbconvert_exporter": "python",
   "pygments_lexer": "ipython3",
   "version": "3.10.9"
  }
 },
 "nbformat": 4,
 "nbformat_minor": 5
}
